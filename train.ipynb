{
 "cells": [
  {
   "cell_type": "code",
   "execution_count": 1,
   "metadata": {},
   "outputs": [
    {
     "name": "stderr",
     "output_type": "stream",
     "text": [
      "/home/kdb/miniconda3/envs/torch/lib/python3.9/site-packages/tqdm/auto.py:21: TqdmWarning: IProgress not found. Please update jupyter and ipywidgets. See https://ipywidgets.readthedocs.io/en/stable/user_install.html\n",
      "  from .autonotebook import tqdm as notebook_tqdm\n"
     ]
    },
    {
     "data": {
      "text/plain": [
       "<torch._C.Generator at 0x7f86cde86550>"
      ]
     },
     "execution_count": 1,
     "metadata": {},
     "output_type": "execute_result"
    }
   ],
   "source": [
    "import torch\n",
    "import torch.nn as nn\n",
    "import matplotlib.pyplot as plt\n",
    "import numpy as np\n",
    "import wandb\n",
    "import torch.optim as opt\n",
    "import torch.nn.functional as F\n",
    "import random\n",
    "import os\n",
    "\n",
    "from tqdm.auto import tqdm\n",
    "from torch.utils.data import DataLoader\n",
    "from Dataset import _VOCdataset\n",
    "from utils import Random_processing\n",
    "from torchinfo import summary\n",
    "\n",
    "from Model.FCN import O_FCN8s\n",
    "from Model.UNet import UNet\n",
    "\n",
    "\n",
    "random.seed(123)\n",
    "torch.manual_seed(123)"
   ]
  },
  {
   "cell_type": "code",
   "execution_count": 2,
   "metadata": {},
   "outputs": [],
   "source": [
    "class config:\n",
    "    # model_name = 'O_FCN8s'\n",
    "    model_name = 'UNet_vgg16_bn_c10'\n",
    "    device = 'cuda' if torch.cuda.is_available() else 'cpu'\n",
    "    max_epoch = 25\n",
    "    batch_size = 16"
   ]
  },
  {
   "cell_type": "code",
   "execution_count": 3,
   "metadata": {},
   "outputs": [],
   "source": [
    "mean = [0.4567, 0.4431, 0.4086]\n",
    "std = [0.2680, 0.2649, 0.2806]\n",
    "\n",
    "ds_train = _VOCdataset(mode='train', transform=Random_processing(mean, std))\n",
    "ds_valid = _VOCdataset(mode='valid', transform=Random_processing(mean, std))\n",
    "\n",
    "dl_train = DataLoader(ds_train, batch_size=config.batch_size, shuffle=True)\n",
    "dl_valid = DataLoader(ds_valid, batch_size=config.batch_size, shuffle=False)"
   ]
  },
  {
   "cell_type": "code",
   "execution_count": 4,
   "metadata": {},
   "outputs": [
    {
     "name": "stderr",
     "output_type": "stream",
     "text": [
      "Failed to detect the name of this notebook, you can set it manually with the WANDB_NOTEBOOK_NAME environment variable to enable code saving.\n",
      "\u001b[34m\u001b[1mwandb\u001b[0m: Currently logged in as: \u001b[33mduriankim\u001b[0m (\u001b[33mdurian\u001b[0m). Use \u001b[1m`wandb login --relogin`\u001b[0m to force relogin\n"
     ]
    },
    {
     "data": {
      "text/html": [
       "Tracking run with wandb version 0.16.3"
      ],
      "text/plain": [
       "<IPython.core.display.HTML object>"
      ]
     },
     "metadata": {},
     "output_type": "display_data"
    },
    {
     "data": {
      "text/html": [
       "Run data is saved locally in <code>/home/kdb/Workspace/Task/[VOC] semantic segmentation/wandb/run-20240301_190409-d6ppupp1</code>"
      ],
      "text/plain": [
       "<IPython.core.display.HTML object>"
      ]
     },
     "metadata": {},
     "output_type": "display_data"
    },
    {
     "data": {
      "text/html": [
       "Syncing run <strong><a href='https://wandb.ai/durian/PASCAL%20VOC%202012%20Semantic%20Segmentation%20-%20Loss%20ratio/runs/d6ppupp1' target=\"_blank\">brisk-breeze-11</a></strong> to <a href='https://wandb.ai/durian/PASCAL%20VOC%202012%20Semantic%20Segmentation%20-%20Loss%20ratio' target=\"_blank\">Weights & Biases</a> (<a href='https://wandb.me/run' target=\"_blank\">docs</a>)<br/>"
      ],
      "text/plain": [
       "<IPython.core.display.HTML object>"
      ]
     },
     "metadata": {},
     "output_type": "display_data"
    },
    {
     "data": {
      "text/html": [
       " View project at <a href='https://wandb.ai/durian/PASCAL%20VOC%202012%20Semantic%20Segmentation%20-%20Loss%20ratio' target=\"_blank\">https://wandb.ai/durian/PASCAL%20VOC%202012%20Semantic%20Segmentation%20-%20Loss%20ratio</a>"
      ],
      "text/plain": [
       "<IPython.core.display.HTML object>"
      ]
     },
     "metadata": {},
     "output_type": "display_data"
    },
    {
     "data": {
      "text/html": [
       " View run at <a href='https://wandb.ai/durian/PASCAL%20VOC%202012%20Semantic%20Segmentation%20-%20Loss%20ratio/runs/d6ppupp1' target=\"_blank\">https://wandb.ai/durian/PASCAL%20VOC%202012%20Semantic%20Segmentation%20-%20Loss%20ratio/runs/d6ppupp1</a>"
      ],
      "text/plain": [
       "<IPython.core.display.HTML object>"
      ]
     },
     "metadata": {},
     "output_type": "display_data"
    }
   ],
   "source": [
    "wandb.login()\n",
    "WANDB_CONFIG = {'_wandb_kernel' : 'neuracort'}\n",
    "run = wandb.init(\n",
    "    project='PASCAL VOC 2012 Semantic Segmentation - Loss ratio',\n",
    "    config=WANDB_CONFIG\n",
    ")\n",
    "wandb.run.name = 'UNet with Vgg16 backbone'"
   ]
  },
  {
   "cell_type": "code",
   "execution_count": 5,
   "metadata": {},
   "outputs": [
    {
     "name": "stderr",
     "output_type": "stream",
     "text": [
      "/home/kdb/miniconda3/envs/torch/lib/python3.9/site-packages/torchvision/models/_utils.py:208: UserWarning: The parameter 'pretrained' is deprecated since 0.13 and may be removed in the future, please use 'weights' instead.\n",
      "  warnings.warn(\n",
      "/home/kdb/miniconda3/envs/torch/lib/python3.9/site-packages/torchvision/models/_utils.py:223: UserWarning: Arguments other than a weight enum or `None` for 'weights' are deprecated since 0.13 and may be removed in the future. The current behavior is equivalent to passing `weights=VGG16_BN_Weights.IMAGENET1K_V1`. You can also use `weights=VGG16_BN_Weights.DEFAULT` to get the most up-to-date weights.\n",
      "  warnings.warn(msg)\n"
     ]
    }
   ],
   "source": [
    "# model = O_FCN8s(n_class=22).to(config.device)\n",
    "model = UNet().to(config.device)"
   ]
  },
  {
   "cell_type": "code",
   "execution_count": 6,
   "metadata": {},
   "outputs": [],
   "source": [
    "class CombinedLoss(nn.Module):\n",
    "    def __init__(self, weight=0.5, smooth=1e-6):\n",
    "        super(CombinedLoss, self).__init__()\n",
    "        self.weight = weight\n",
    "        self.smooth = smooth\n",
    "        self.cross_entropy_loss = nn.CrossEntropyLoss()\n",
    "        \n",
    "    def dice_loss(self, inputs, targets):\n",
    "        inputs = torch.softmax(inputs, dim=1)\n",
    "        targets = F.one_hot(targets.long(), num_classes=inputs.shape[1]).permute(0, 3, 1, 2).float()\n",
    "        \n",
    "        intersection = (inputs * targets).sum((2, 3))\n",
    "        dice = (2. * intersection + self.smooth) / (inputs.sum((2, 3)) + targets.sum((2, 3)) + self.smooth)\n",
    "        \n",
    "        return 1 - dice.mean()\n",
    "    \n",
    "    def forward(self, inputs, targets):\n",
    "        ce_loss = self.cross_entropy_loss(inputs, targets.squeeze().long())\n",
    "        dl_loss = self.dice_loss(inputs, targets.squeeze().long())\n",
    "        return self.weight * ce_loss + (1 - self.weight) * dl_loss\n",
    "\n",
    "\n",
    "loss_fn = CombinedLoss(weight=1.0)\n",
    "optimizer = opt.Adam(model.parameters(), lr=1e-3)"
   ]
  },
  {
   "cell_type": "code",
   "execution_count": 7,
   "metadata": {},
   "outputs": [],
   "source": [
    "class engine():\n",
    "    def model_train(model, data, optimizer, loss_func):\n",
    "        imgs, lbls = data['image'], data['label']\n",
    "        model.train()\n",
    "\n",
    "        imgs = imgs.to(config.device)\n",
    "        lbls = lbls.to(config.device)\n",
    "\n",
    "        preds = model(imgs)\n",
    "        loss = loss_func(preds, lbls)\n",
    "\n",
    "        optimizer.zero_grad()\n",
    "\n",
    "        loss.backward()\n",
    "        optimizer.step()\n",
    "\n",
    "        return loss.item()\n",
    "    \n",
    "    @torch.no_grad()\n",
    "    def model_valid(model, data, loss_func):\n",
    "        imgs, lbls = data['image'], data['label']\n",
    "        model.eval()\n",
    "\n",
    "        imgs = imgs.to(config.device)\n",
    "        lbls = lbls.to(config.device)\n",
    "\n",
    "        preds = model(imgs)\n",
    "        loss= loss_func(preds, lbls)\n",
    "\n",
    "        return loss.item()"
   ]
  },
  {
   "cell_type": "code",
   "execution_count": 8,
   "metadata": {},
   "outputs": [
    {
     "name": "stderr",
     "output_type": "stream",
     "text": [
      "/home/kdb/miniconda3/envs/torch/lib/python3.9/site-packages/torchvision/transforms/functional.py:1603: UserWarning: The default value of the antialias parameter of all the resizing transforms (Resize(), RandomResizedCrop(), etc.) will change from None to True in v0.17, in order to be consistent across the PIL and Tensor backends. To suppress this warning, directly pass antialias=True (recommended, future default), antialias=None (current default, which means False for Tensors and True for PIL), or antialias=False (only works on Tensors - PIL will still use antialiasing). This also applies if you are using the inference transforms from the models weights: update the call to weights.transforms(antialias=True).\n",
      "  warnings.warn(\n"
     ]
    }
   ],
   "source": [
    "log_path = f'Model/{config.model_name}/log'\n",
    "best_model_path = log_path + '/best_model'\n",
    "\n",
    "# Check log & best model path\n",
    "if os.path.exists(best_model_path):\n",
    "    pass\n",
    "else:\n",
    "    os.makedirs(best_model_path)\n",
    "\n",
    "# Set test image\n",
    "test_sample = next(iter(dl_valid))\n",
    "test_img, test_lbl = test_sample['image'], test_sample['label']\n",
    "\n",
    "# Save the view image and mask image\n",
    "view_img = test_img[0].squeeze().permute(1,2,0).detach().cpu().numpy()\n",
    "view_lbl = test_lbl[0].squeeze().detach().cpu().numpy()\n",
    "\n",
    "\n",
    "# Reverse the normalization\n",
    "view_img = (view_img*np.array(std) + np.array(mean))*255.0\n",
    "view_img = view_img.astype(np.int16)\n",
    "\n",
    "test_img = test_img.to(config.device)"
   ]
  },
  {
   "cell_type": "code",
   "execution_count": 9,
   "metadata": {},
   "outputs": [
    {
     "name": "stdout",
     "output_type": "stream",
     "text": [
      "-----------------------------\n",
      "    Epoch : 0\n",
      "-----------------------------\n"
     ]
    },
    {
     "name": "stderr",
     "output_type": "stream",
     "text": [
      "100%|██████████| 92/92 [00:29<00:00,  3.16it/s]\n",
      "100%|██████████| 91/91 [00:11<00:00,  8.20it/s]\n"
     ]
    },
    {
     "name": "stdout",
     "output_type": "stream",
     "text": [
      "\n",
      "-----------------------------\n",
      "    Epoch : 1\n",
      "-----------------------------\n"
     ]
    },
    {
     "name": "stderr",
     "output_type": "stream",
     "text": [
      "100%|██████████| 92/92 [00:27<00:00,  3.29it/s]\n",
      "100%|██████████| 91/91 [00:11<00:00,  8.21it/s]\n"
     ]
    },
    {
     "name": "stdout",
     "output_type": "stream",
     "text": [
      "\n",
      "-----------------------------\n",
      "    Epoch : 2\n",
      "-----------------------------\n"
     ]
    },
    {
     "name": "stderr",
     "output_type": "stream",
     "text": [
      "100%|██████████| 92/92 [00:27<00:00,  3.29it/s]\n",
      "100%|██████████| 91/91 [00:11<00:00,  8.22it/s]\n"
     ]
    },
    {
     "name": "stdout",
     "output_type": "stream",
     "text": [
      "\n",
      "-----------------------------\n",
      "    Epoch : 3\n",
      "-----------------------------\n"
     ]
    },
    {
     "name": "stderr",
     "output_type": "stream",
     "text": [
      "100%|██████████| 92/92 [00:27<00:00,  3.30it/s]\n",
      "100%|██████████| 91/91 [00:11<00:00,  8.21it/s]\n"
     ]
    },
    {
     "name": "stdout",
     "output_type": "stream",
     "text": [
      "\n",
      "-----------------------------\n",
      "    Epoch : 4\n",
      "-----------------------------\n"
     ]
    },
    {
     "name": "stderr",
     "output_type": "stream",
     "text": [
      "100%|██████████| 92/92 [00:27<00:00,  3.29it/s]\n",
      "100%|██████████| 91/91 [00:11<00:00,  8.20it/s]\n"
     ]
    },
    {
     "name": "stdout",
     "output_type": "stream",
     "text": [
      "\n",
      "-----------------------------\n",
      "    Epoch : 5\n",
      "-----------------------------\n"
     ]
    },
    {
     "name": "stderr",
     "output_type": "stream",
     "text": [
      "100%|██████████| 92/92 [00:27<00:00,  3.29it/s]\n",
      "100%|██████████| 91/91 [00:11<00:00,  8.16it/s]\n"
     ]
    },
    {
     "name": "stdout",
     "output_type": "stream",
     "text": [
      "\n",
      "-----------------------------\n",
      "    Epoch : 6\n",
      "-----------------------------\n"
     ]
    },
    {
     "name": "stderr",
     "output_type": "stream",
     "text": [
      "100%|██████████| 92/92 [00:27<00:00,  3.29it/s]\n",
      "100%|██████████| 91/91 [00:11<00:00,  8.17it/s]\n"
     ]
    },
    {
     "name": "stdout",
     "output_type": "stream",
     "text": [
      "\n",
      "-----------------------------\n",
      "    Epoch : 7\n",
      "-----------------------------\n"
     ]
    },
    {
     "name": "stderr",
     "output_type": "stream",
     "text": [
      "100%|██████████| 92/92 [00:27<00:00,  3.29it/s]\n",
      "100%|██████████| 91/91 [00:11<00:00,  8.14it/s]\n"
     ]
    },
    {
     "name": "stdout",
     "output_type": "stream",
     "text": [
      "\n",
      "-----------------------------\n",
      "    Epoch : 8\n",
      "-----------------------------\n"
     ]
    },
    {
     "name": "stderr",
     "output_type": "stream",
     "text": [
      "100%|██████████| 92/92 [00:27<00:00,  3.29it/s]\n",
      "100%|██████████| 91/91 [00:11<00:00,  8.15it/s]\n"
     ]
    },
    {
     "name": "stdout",
     "output_type": "stream",
     "text": [
      "\n",
      "-----------------------------\n",
      "    Epoch : 9\n",
      "-----------------------------\n"
     ]
    },
    {
     "name": "stderr",
     "output_type": "stream",
     "text": [
      "100%|██████████| 92/92 [00:27<00:00,  3.29it/s]\n",
      "100%|██████████| 91/91 [00:11<00:00,  8.17it/s]\n"
     ]
    },
    {
     "name": "stdout",
     "output_type": "stream",
     "text": [
      "\n",
      "-----------------------------\n",
      "    Epoch : 10\n",
      "-----------------------------\n"
     ]
    },
    {
     "name": "stderr",
     "output_type": "stream",
     "text": [
      "100%|██████████| 92/92 [00:27<00:00,  3.29it/s]\n",
      "100%|██████████| 91/91 [00:11<00:00,  8.19it/s]\n"
     ]
    },
    {
     "name": "stdout",
     "output_type": "stream",
     "text": [
      "\n",
      "-----------------------------\n",
      "    Epoch : 11\n",
      "-----------------------------\n"
     ]
    },
    {
     "name": "stderr",
     "output_type": "stream",
     "text": [
      "100%|██████████| 92/92 [00:27<00:00,  3.29it/s]\n",
      "100%|██████████| 91/91 [00:11<00:00,  8.17it/s]\n"
     ]
    },
    {
     "name": "stdout",
     "output_type": "stream",
     "text": [
      "\n",
      "-----------------------------\n",
      "    Epoch : 12\n",
      "-----------------------------\n"
     ]
    },
    {
     "name": "stderr",
     "output_type": "stream",
     "text": [
      "100%|██████████| 92/92 [00:27<00:00,  3.30it/s]\n",
      "100%|██████████| 91/91 [00:11<00:00,  8.15it/s]\n"
     ]
    },
    {
     "name": "stdout",
     "output_type": "stream",
     "text": [
      "\n",
      "-----------------------------\n",
      "    Epoch : 13\n",
      "-----------------------------\n"
     ]
    },
    {
     "name": "stderr",
     "output_type": "stream",
     "text": [
      "100%|██████████| 92/92 [00:27<00:00,  3.29it/s]\n",
      "100%|██████████| 91/91 [00:11<00:00,  8.17it/s]\n"
     ]
    },
    {
     "name": "stdout",
     "output_type": "stream",
     "text": [
      "\n",
      "-----------------------------\n",
      "    Epoch : 14\n",
      "-----------------------------\n"
     ]
    },
    {
     "name": "stderr",
     "output_type": "stream",
     "text": [
      "100%|██████████| 92/92 [00:27<00:00,  3.29it/s]\n",
      "100%|██████████| 91/91 [00:11<00:00,  8.17it/s]\n"
     ]
    },
    {
     "name": "stdout",
     "output_type": "stream",
     "text": [
      "\n",
      "-----------------------------\n",
      "    Epoch : 15\n",
      "-----------------------------\n"
     ]
    },
    {
     "name": "stderr",
     "output_type": "stream",
     "text": [
      "100%|██████████| 92/92 [00:27<00:00,  3.30it/s]\n",
      "100%|██████████| 91/91 [00:11<00:00,  8.18it/s]\n"
     ]
    },
    {
     "name": "stdout",
     "output_type": "stream",
     "text": [
      "\n",
      "-----------------------------\n",
      "    Epoch : 16\n",
      "-----------------------------\n"
     ]
    },
    {
     "name": "stderr",
     "output_type": "stream",
     "text": [
      "100%|██████████| 92/92 [00:27<00:00,  3.29it/s]\n",
      "100%|██████████| 91/91 [00:11<00:00,  8.15it/s]\n"
     ]
    },
    {
     "name": "stdout",
     "output_type": "stream",
     "text": [
      "\n",
      "-----------------------------\n",
      "    Epoch : 17\n",
      "-----------------------------\n"
     ]
    },
    {
     "name": "stderr",
     "output_type": "stream",
     "text": [
      "100%|██████████| 92/92 [00:27<00:00,  3.29it/s]\n",
      "100%|██████████| 91/91 [00:11<00:00,  8.18it/s]\n"
     ]
    },
    {
     "name": "stdout",
     "output_type": "stream",
     "text": [
      "\n",
      "-----------------------------\n",
      "    Epoch : 18\n",
      "-----------------------------\n"
     ]
    },
    {
     "name": "stderr",
     "output_type": "stream",
     "text": [
      "100%|██████████| 92/92 [00:27<00:00,  3.29it/s]\n",
      "100%|██████████| 91/91 [00:11<00:00,  8.14it/s]\n"
     ]
    },
    {
     "name": "stdout",
     "output_type": "stream",
     "text": [
      "\n",
      "-----------------------------\n",
      "    Epoch : 19\n",
      "-----------------------------\n"
     ]
    },
    {
     "name": "stderr",
     "output_type": "stream",
     "text": [
      "100%|██████████| 92/92 [00:27<00:00,  3.29it/s]\n",
      "100%|██████████| 91/91 [00:11<00:00,  8.15it/s]\n"
     ]
    },
    {
     "name": "stdout",
     "output_type": "stream",
     "text": [
      "\n",
      "-----------------------------\n",
      "    Epoch : 20\n",
      "-----------------------------\n"
     ]
    },
    {
     "name": "stderr",
     "output_type": "stream",
     "text": [
      "100%|██████████| 92/92 [00:27<00:00,  3.29it/s]\n",
      "100%|██████████| 91/91 [00:11<00:00,  8.15it/s]\n"
     ]
    },
    {
     "name": "stdout",
     "output_type": "stream",
     "text": [
      "\n",
      "-----------------------------\n",
      "    Epoch : 21\n",
      "-----------------------------\n"
     ]
    },
    {
     "name": "stderr",
     "output_type": "stream",
     "text": [
      "100%|██████████| 92/92 [00:27<00:00,  3.29it/s]\n",
      "100%|██████████| 91/91 [00:11<00:00,  8.13it/s]\n"
     ]
    },
    {
     "name": "stdout",
     "output_type": "stream",
     "text": [
      "\n",
      "-----------------------------\n",
      "    Epoch : 22\n",
      "-----------------------------\n"
     ]
    },
    {
     "name": "stderr",
     "output_type": "stream",
     "text": [
      "100%|██████████| 92/92 [00:28<00:00,  3.28it/s]\n",
      "100%|██████████| 91/91 [00:11<00:00,  8.17it/s]\n"
     ]
    },
    {
     "name": "stdout",
     "output_type": "stream",
     "text": [
      "\n",
      "-----------------------------\n",
      "    Epoch : 23\n",
      "-----------------------------\n"
     ]
    },
    {
     "name": "stderr",
     "output_type": "stream",
     "text": [
      "100%|██████████| 92/92 [00:27<00:00,  3.29it/s]\n",
      "100%|██████████| 91/91 [00:11<00:00,  8.14it/s]\n"
     ]
    },
    {
     "name": "stdout",
     "output_type": "stream",
     "text": [
      "\n",
      "-----------------------------\n",
      "    Epoch : 24\n",
      "-----------------------------\n"
     ]
    },
    {
     "name": "stderr",
     "output_type": "stream",
     "text": [
      "100%|██████████| 92/92 [00:27<00:00,  3.29it/s]\n",
      "100%|██████████| 91/91 [00:11<00:00,  8.17it/s]\n"
     ]
    },
    {
     "name": "stdout",
     "output_type": "stream",
     "text": [
      "\n"
     ]
    }
   ],
   "source": [
    "def run():\n",
    "    best_val_loss = 1e10\n",
    "    \n",
    "    for epoch in range(config.max_epoch):\n",
    "        print('-----------------------------')\n",
    "        print(f'    Epoch : {epoch}')\n",
    "        print('-----------------------------')\n",
    "\n",
    "\n",
    "        for _, data in tqdm(enumerate(dl_train), total=len(dl_train)):\n",
    "            train_loss= engine.model_train(model, data, optimizer, loss_fn)\n",
    "\n",
    "        for _, data in tqdm(enumerate(dl_valid), total=len(dl_valid)):\n",
    "            valid_loss= engine.model_valid(model, data, loss_fn)\n",
    "\n",
    "        torch.save(model.state_dict(), os.path.join(log_path, f'epoch_{epoch}.pth'))\n",
    "\n",
    "        if valid_loss < best_val_loss:\n",
    "            torch.save(model.state_dict(), os.path.join(best_model_path, 'best_model.pth'))\n",
    "            best_val_loss = valid_loss\n",
    "\n",
    "        with torch.no_grad():\n",
    "            model.eval()\n",
    "            \n",
    "            view_preds = model(test_img)\n",
    "            view_preds = torch.argmax(view_preds, dim=1)\n",
    "            view_pred = view_preds[0].detach().cpu().numpy()\n",
    "            view_pred = view_pred.astype(np.int16)\n",
    "\n",
    "        wandb.log(\n",
    "            {\n",
    "                'epoch' : epoch,\n",
    "                'train_loss' : train_loss,\n",
    "                'valid_loss' : valid_loss,\n",
    "                'Color Image' : [wandb.Image(view_img, caption='Color image', mode=\"RGB\")],\n",
    "                'Ground Truth' : [wandb.Image(view_lbl, caption='Ground truth', mode=\"L\")],\n",
    "                'Model prediction' : [wandb.Image(view_pred, caption='Model Prediction', mode=\"L\")]\n",
    "            }   \n",
    "        )\n",
    "        print()\n",
    "\n",
    "run()"
   ]
  },
  {
   "cell_type": "code",
   "execution_count": 10,
   "metadata": {},
   "outputs": [
    {
     "data": {
      "text/plain": [
       "<matplotlib.image.AxesImage at 0x7f869dc10670>"
      ]
     },
     "execution_count": 10,
     "metadata": {},
     "output_type": "execute_result"
    },
    {
     "data": {
      "image/png": "[encoded data removed]",
      "text/plain": [
       "<Figure size 1000x1200 with 3 Axes>"
      ]
     },
     "metadata": {},
     "output_type": "display_data"
    }
   ],
   "source": [
    "log_path = f'Model/{config.model_name}/log'\n",
    "best_model_path = log_path + '/best_model'\n",
    "\n",
    "# model = O_FCN8s(n_class=22).to(config.device)\n",
    "model = UNet().to(config.device)\n",
    "\n",
    "\n",
    "\n",
    "best_model_weight = torch.load(os.path.join(best_model_path, 'best_model.pth'))\n",
    "model.load_state_dict(best_model_weight)\n",
    "\n",
    "test_sample = next(iter(dl_valid))\n",
    "test_img, test_lbl = test_sample['image'], test_sample['label']\n",
    "\n",
    "# Save the view image and mask image\n",
    "view_img = test_img[0].squeeze().permute(1,2,0).detach().cpu().numpy()\n",
    "view_lbl = test_lbl[0].squeeze().detach().cpu().numpy()\n",
    "\n",
    "\n",
    "# Reverse the normalization\n",
    "view_img = (view_img*np.array(std) + np.array(mean))*255.0\n",
    "view_img = view_img.astype(np.int16)\n",
    "\n",
    "test_img = test_img.to(config.device)\n",
    "\n",
    "\n",
    "with torch.no_grad():\n",
    "    model.eval()\n",
    "    \n",
    "    view_preds = model(test_img)\n",
    "    view_preds = torch.argmax(view_preds, dim=1)\n",
    "    view_pred = view_preds[0].detach().cpu().numpy()\n",
    "    view_pred = view_pred.astype(np.int16)\n",
    "\n",
    "\n",
    "plt.figure(figsize=(10,12))\n",
    "plt.subplot(1,3,1)\n",
    "plt.imshow(view_img)\n",
    "plt.subplot(1,3,2)\n",
    "plt.imshow(view_pred)\n",
    "plt.subplot(1,3,3)\n",
    "plt.imshow(view_lbl)"
   ]
  },
  {
   "cell_type": "code",
   "execution_count": 11,
   "metadata": {},
   "outputs": [
    {
     "data": {
      "text/plain": [
       "array([ 0,  6,  7, 14, 19, 21], dtype=int16)"
      ]
     },
     "execution_count": 11,
     "metadata": {},
     "output_type": "execute_result"
    }
   ],
   "source": [
    "np.unique(view_pred)"
   ]
  },
  {
   "cell_type": "code",
   "execution_count": 12,
   "metadata": {},
   "outputs": [
    {
     "data": {
      "text/plain": [
       "array([ 0,  1, 21], dtype=uint8)"
      ]
     },
     "execution_count": 12,
     "metadata": {},
     "output_type": "execute_result"
    }
   ],
   "source": [
    "np.unique(view_lbl)"
   ]
  },
  {
   "cell_type": "code",
   "execution_count": 13,
   "metadata": {},
   "outputs": [
    {
     "name": "stdout",
     "output_type": "stream",
     "text": [
      "Class 0 IoU:  0.8123\n",
      "Class 1 IoU:  0.0001\n",
      "Class 2 IoU:  0.0000\n",
      "Class 3 IoU:  0.0304\n",
      "Class 4 IoU:  0.0000\n",
      "Class 5 IoU:  0.0000\n",
      "Class 6 IoU:  0.2769\n",
      "Class 7 IoU:  0.1942\n",
      "Class 8 IoU:  0.2168\n",
      "Class 9 IoU:  0.0000\n",
      "Class 10 IoU:  0.0036\n",
      "Class 11 IoU:  0.0007\n",
      "Class 12 IoU:  0.1582\n",
      "Class 13 IoU:  0.0934\n",
      "Class 14 IoU:  0.1686\n",
      "Class 15 IoU:  0.4472\n",
      "Class 16 IoU:  0.0035\n",
      "Class 17 IoU:  0.0030\n",
      "Class 18 IoU:  0.0000\n",
      "Class 19 IoU:  0.0514\n",
      "Class 20 IoU:  0.0000\n",
      "Class 21 IoU:  0.1444\n"
     ]
    }
   ],
   "source": [
    "import torch\n",
    "\n",
    "log_path = f'Model/{config.model_name}/log'\n",
    "best_model_path = log_path + '/best_model'\n",
    "\n",
    "# model = O_FCN8s(n_class=22).to(config.device)\n",
    "model = UNet().to(config.device)\n",
    "\n",
    "best_model_weight = torch.load(os.path.join(best_model_path, 'best_model.pth'))\n",
    "model.load_state_dict(best_model_weight)\n",
    "\n",
    "def fast_hist(pred, label, n_class):\n",
    "    mask = (label >= 0) & (label < n_class)\n",
    "    hist = torch.bincount(\n",
    "        n_class * label[mask].view(-1).long() + pred[mask].view(-1),\n",
    "        minlength=n_class ** 2).reshape(n_class, n_class)\n",
    "    return hist\n",
    "\n",
    "def compute_IoU_per_class(hist):\n",
    "    intersection = torch.diag(hist)\n",
    "    union = hist.sum(1) + hist.sum(0) - intersection\n",
    "    IoU = intersection / union\n",
    "    return IoU\n",
    "\n",
    "model.eval()\n",
    "n_class = 22\n",
    "total_hist = torch.zeros((n_class, n_class), device=config.device)  \n",
    "\n",
    "with torch.no_grad():\n",
    "    for data in dl_valid:\n",
    "        img, lbl = data['image'], data['label']\n",
    "        img = img.to(config.device)\n",
    "        lbl = lbl.to(config.device).squeeze(1)  \n",
    "        preds = model(img)\n",
    "        preds = torch.argmax(preds, dim=1)  \n",
    "        \n",
    "        for pred, label in zip(preds, lbl):\n",
    "            total_hist += fast_hist(pred, label, n_class).to(config.device)  \n",
    "IoUs = compute_IoU_per_class(total_hist)\n",
    "\n",
    "for i, IoU in enumerate(IoUs):\n",
    "    print(f\"Class {i} IoU: {IoU.item(): .4f}\")\n"
   ]
  }
 ],
 "metadata": {
  "kernelspec": {
   "display_name": "torch",
   "language": "python",
   "name": "python3"
  },
  "language_info": {
   "codemirror_mode": {
    "name": "ipython",
    "version": 3
   },
   "file_extension": ".py",
   "mimetype": "text/x-python",
   "name": "python",
   "nbconvert_exporter": "python",
   "pygments_lexer": "ipython3",
   "version": "3.9.undefined"
  }
 },
 "nbformat": 4,
 "nbformat_minor": 2
}
